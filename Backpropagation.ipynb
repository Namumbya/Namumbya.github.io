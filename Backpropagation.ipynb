{
  "nbformat": 4,
  "nbformat_minor": 0,
  "metadata": {
    "colab": {
      "provenance": [],
      "authorship_tag": "ABX9TyObIvzgCAgp+QHmE/9hohuf",
      "include_colab_link": true
    },
    "kernelspec": {
      "name": "python3",
      "display_name": "Python 3"
    },
    "language_info": {
      "name": "python"
    }
  },
  "cells": [
    {
      "cell_type": "markdown",
      "metadata": {
        "id": "view-in-github",
        "colab_type": "text"
      },
      "source": [
        "<a href=\"https://colab.research.google.com/github/Namumbya/Namumbya.github.io/blob/main/Backpropagation.ipynb\" target=\"_parent\"><img src=\"https://colab.research.google.com/assets/colab-badge.svg\" alt=\"Open In Colab\"/></a>"
      ]
    },
    {
      "cell_type": "code",
      "execution_count": 9,
      "metadata": {
        "id": "0ZcCOwqGvYS_"
      },
      "outputs": [],
      "source": [
        "import numpy as np"
      ]
    },
    {
      "cell_type": "code",
      "source": [
        "class NeuralNetwork:\n",
        "    def __init__(self, layers):\n",
        "        self.layers = layers\n",
        "        self.weights = []\n",
        "        self.biases = []\n",
        "        for i in range(1, len(layers)):\n",
        "            self.weights.append(np.random.randn(layers[i], layers[i-1]))\n",
        "            self.biases.append(np.random.randn(layers[i], 1))\n",
        "\n",
        "    def sigmoid(self, z):\n",
        "        return 1 / (1 + np.exp(-z))\n",
        "\n",
        "    def sigmoid_derivative(self, z):\n",
        "        return self.sigmoid(z) * (1 - self.sigmoid(z))\n",
        "\n",
        "    def forward_propagation(self, X):\n",
        "        a = X\n",
        "        activations = [a]\n",
        "        zs = []\n",
        "        for i in range(len(self.layers)-1):\n",
        "            z = np.dot(self.weights[i], a) + self.biases[i]\n",
        "            zs.append(z)\n",
        "            a = self.sigmoid(z)\n",
        "            activations.append(a)\n",
        "        return activations, zs\n",
        "\n",
        "    def backpropagation(self, X, y):\n",
        "        m = X.shape[1]\n",
        "        activations, zs = self.forward_propagation(X)\n",
        "        delta_weights = [np.zeros(w.shape) for w in self.weights]\n",
        "        delta_biases = [np.zeros(b.shape) for b in self.biases]\n",
        "\n",
        "        delta = (activations[-1] - y) * self.sigmoid_derivative(zs[-1])\n",
        "        delta_weights[-1] = np.dot(delta, activations[-2].T)\n",
        "        delta_biases[-1] = np.sum(delta, axis=1, keepdims=True)\n",
        "\n",
        "        for l in range(2, len(self.layers)):\n",
        "            z = zs[-l]\n",
        "            sp = self.sigmoid_derivative(z)\n",
        "            delta = np.dot(self.weights[-l+1].T, delta) * sp\n",
        "            delta_weights[-l] = np.dot(delta, activations[-l-1].T)\n",
        "            delta_biases[-l] = np.sum(delta, axis=1, keepdims=True)\n",
        "\n",
        "        return delta_weights, delta_biases\n",
        "\n",
        "    def train(self, X, y, epochs, learning_rate):\n",
        "        m = X.shape[1]\n",
        "        for epoch in range(epochs):\n",
        "            delta_weights = [np.zeros(w.shape) for w in self.weights]\n",
        "            delta_biases = [np.zeros(b.shape) for b in self.biases]\n",
        "            for i in range(m):\n",
        "                x = X[:, i].reshape(-1, 1)\n",
        "                y_i = y[:, i].reshape(-1, 1)\n",
        "                dw, db = self.backpropagation(x, y_i)\n",
        "                delta_weights = [dw_l + dw_l_i for dw_l, dw_l_i in zip(delta_weights, dw)]\n",
        "                delta_biases = [db_l + db_l_i for db_l, db_l_i in zip(delta_biases, db)]\n",
        "            self.weights = [w - (learning_rate / m) * dw for w, dw in zip(self.weights, delta_weights)]\n",
        "            self.biases = [b - (learning_rate / m) * db for b, db in zip(self.biases, delta_biases)]\n",
        "\n",
        "    def predict(self, X):\n",
        "        X = X.T\n",
        "        activations, _ = self.forward_propagation(X)\n",
        "        return activations[-1].T"
      ],
      "metadata": {
        "id": "coHE4XJ9xOoH"
      },
      "execution_count": 10,
      "outputs": []
    },
    {
      "cell_type": "code",
      "source": [
        "# Example usage:\n",
        "X = np.array([[0, 0, 1, 1], [0, 1, 0, 1]])\n",
        "y = np.array([[0, 1, 1, 0]])\n",
        "layers = [2, 4, 1]  # 2 input units, 4 hidden units, 1 output unit"
      ],
      "metadata": {
        "id": "rTAtzS8LvbFC"
      },
      "execution_count": 11,
      "outputs": []
    },
    {
      "cell_type": "code",
      "source": [
        "nn = NeuralNetwork(layers)\n",
        "nn.train(X, y, epochs=10, learning_rate=0.1)"
      ],
      "metadata": {
        "id": "MOo29arzvbMU"
      },
      "execution_count": 12,
      "outputs": []
    },
    {
      "cell_type": "code",
      "source": [
        "# Test the trained neural network\n",
        "test_input = np.array([[1, 0]])\n",
        "predicted_output = nn.predict(test_input)\n",
        "print(\"Predicted output:\", predicted_output)"
      ],
      "metadata": {
        "colab": {
          "base_uri": "https://localhost:8080/"
        },
        "id": "LlLBInX7vbWj",
        "outputId": "406d5e95-0183-4f98-dce9-be83324c112e"
      },
      "execution_count": 13,
      "outputs": [
        {
          "output_type": "stream",
          "name": "stdout",
          "text": [
            "Predicted output: [[0.50023055]]\n"
          ]
        }
      ]
    }
  ]
}